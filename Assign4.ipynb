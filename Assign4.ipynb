{
 "cells": [
  {
   "cell_type": "code",
   "execution_count": 1,
   "id": "9ddd0f8b",
   "metadata": {},
   "outputs": [
    {
     "name": "stdout",
     "output_type": "stream",
     "text": [
      "Enter 1st Value : 25\n",
      "Enter 2nd Value : 5\n",
      "Addition is:  30\n",
      "Substraction is:  20\n",
      "Multiplication is:  125\n",
      "Division is:  5.0\n",
      "Power is:  625\n"
     ]
    }
   ],
   "source": [
    "a = int(input(\"Enter 1st Value : \"));\n",
    "b = int(input(\"Enter 2nd Value : \"));\n",
    "add = (a + b)\n",
    "sub = (a - b)\n",
    "mult = (a * b)\n",
    "div = (a / b)\n",
    "pow = (a * a)\n",
    "\n",
    "print(\"Addition is: \",add)\n",
    "print(\"Substraction is: \",sub)\n",
    "print(\"Multiplication is: \",mult)\n",
    "print(\"Division is: \",div)\n",
    "print(\"Power is: \",pow)"
   ]
  },
  {
   "cell_type": "code",
   "execution_count": 5,
   "id": "87ce6cb2",
   "metadata": {},
   "outputs": [
    {
     "name": "stdout",
     "output_type": "stream",
     "text": [
      "Enter size of the list;4\n",
      "Enter Number:23\n",
      "Enter Number:3\n",
      "Enter Number:4\n",
      "Enter Number:4\n",
      "Enter Number to Search3\n",
      "Element found at: 2 position.\n"
     ]
    }
   ],
   "source": [
    "a=[]\n",
    "size=int(input(\"Enter size of the list;\"))\n",
    "for i in range(size):\n",
    "    val=int(input(\"Enter Number:\"))\n",
    "    a.append(val)\n",
    "key=int(input(\"Enter Number to Search\"))\n",
    "flag=0\n",
    "for i in range(size):\n",
    "    if(a[i]==key):\n",
    "        flag=1\n",
    "        pos=i+1\n",
    "        break\n",
    "if(flag==1):\n",
    "    print(\"Element found at:\",pos,\"position.\")\n",
    "else:\n",
    "    print(\"Number not found\")"
   ]
  },
  {
   "cell_type": "code",
   "execution_count": 6,
   "id": "7b54554c",
   "metadata": {},
   "outputs": [
    {
     "name": "stdout",
     "output_type": "stream",
     "text": [
      "{0: 10, 2: 20}\n",
      "{0: 10, 2: 20, 3: 30}\n"
     ]
    }
   ],
   "source": [
    "d={0:10,2:20}\n",
    "print(d)\n",
    "d.update({3:30})\n",
    "print(d)"
   ]
  },
  {
   "cell_type": "code",
   "execution_count": 9,
   "id": "f740c4e1",
   "metadata": {},
   "outputs": [
    {
     "name": "stdout",
     "output_type": "stream",
     "text": [
      "Enter the total no of the key- value pairs you want inside your dictionary:3\n",
      "Enter the key: d\n",
      "Enter the Value: 3\n",
      "Enter the key: f\n",
      "Enter the Value: 3\n",
      "Enter the key: d\n",
      "Enter the Value: 4\n",
      "My dictionary {'d': 4, 'f': 3}\n",
      "sum of values 7\n"
     ]
    }
   ],
   "source": [
    "n=int(input(\"Enter the total no of the key- value pairs you want inside your dictionary:\"))\n",
    "d={}\n",
    "for i in range(n):\n",
    "    k=input(\"Enter the key: \")\n",
    "    v=int(input(\"Enter the Value: \"))\n",
    "    d.update({k:v})\n",
    "print(\"My dictionary\",d)\n",
    "result=sum(d.values())\n",
    "print(\"sum of values\",result)"
   ]
  },
  {
   "cell_type": "code",
   "execution_count": 89,
   "id": "5df71d1f",
   "metadata": {},
   "outputs": [
    {
     "name": "stdout",
     "output_type": "stream",
     "text": [
      "[1, 2, 5]\n"
     ]
    }
   ],
   "source": [
    "def Duplicate(x):\n",
    "    length = len(x)\n",
    "    list = []\n",
    "    for i in range(length):\n",
    "        k = i + 1\n",
    "        for j in range(k,length):\n",
    "            if x[i] == x[j] and x[i] not in list:\n",
    "                list.append(x[i])\n",
    "    return list\n",
    "#Sample Input\n",
    "sample_input = [1,2,2,1,4,5,6,5]\n",
    "print(Duplicate(sample_input))"
   ]
  },
  {
   "cell_type": "code",
   "execution_count": 38,
   "id": "c93f6341",
   "metadata": {},
   "outputs": [
    {
     "name": "stdout",
     "output_type": "stream",
     "text": [
      "Enter the key that you want check: Faizan\n",
      "The key is present\n",
      "the value:  developer\n"
     ]
    }
   ],
   "source": [
    "d={\"Faizan\":\"developer\",\"kamran\":\"Trainer\",\"Aamir\":\"SEO\",\"Ashfaque\":'developer'}\n",
    "user_ip=input(\"Enter the key that you want check: \")\n",
    "if user_ip in d:\n",
    "    print(\"The key is present\")\n",
    "    print(\"the value: \",d[user_ip])\n",
    "else:\n",
    "    print(\"The key is absent\")"
   ]
  },
  {
   "cell_type": "code",
   "execution_count": null,
   "id": "3b893519",
   "metadata": {},
   "outputs": [],
   "source": []
  }
 ],
 "metadata": {
  "kernelspec": {
   "display_name": "Python 3",
   "language": "python",
   "name": "python3"
  },
  "language_info": {
   "codemirror_mode": {
    "name": "ipython",
    "version": 3
   },
   "file_extension": ".py",
   "mimetype": "text/x-python",
   "name": "python",
   "nbconvert_exporter": "python",
   "pygments_lexer": "ipython3",
   "version": "3.8.8"
  }
 },
 "nbformat": 4,
 "nbformat_minor": 5
}
